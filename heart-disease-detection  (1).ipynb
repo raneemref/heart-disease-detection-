{
 "cells": [
  {
   "cell_type": "markdown",
   "id": "8bec12f6",
   "metadata": {
    "execution": {
     "iopub.execute_input": "2023-12-16T15:49:02.342294Z",
     "iopub.status.busy": "2023-12-16T15:49:02.341816Z",
     "iopub.status.idle": "2023-12-16T15:49:02.348593Z",
     "shell.execute_reply": "2023-12-16T15:49:02.347214Z"
    },
    "papermill": {
     "duration": 0.016294,
     "end_time": "2023-12-16T15:49:02.351255",
     "exception": false,
     "start_time": "2023-12-16T15:49:02.334961",
     "status": "completed"
    },
    "tags": []
   },
   "source": [
    "#  heart disease"
   ]
  },
  {
   "cell_type": "code",
   "execution_count": 1,
   "id": "dc17722f",
   "metadata": {
    "execution": {
     "iopub.execute_input": "2023-12-16T15:49:02.361839Z",
     "iopub.status.busy": "2023-12-16T15:49:02.361355Z",
     "iopub.status.idle": "2023-12-16T15:49:04.724182Z",
     "shell.execute_reply": "2023-12-16T15:49:04.722995Z"
    },
    "papermill": {
     "duration": 2.371753,
     "end_time": "2023-12-16T15:49:04.727384",
     "exception": false,
     "start_time": "2023-12-16T15:49:02.355631",
     "status": "completed"
    },
    "tags": []
   },
   "outputs": [],
   "source": [
    "import pandas as pd\n",
    "from sklearn.preprocessing import LabelEncoder\n",
    "from sklearn.model_selection import train_test_split\n",
    "from sklearn.svm import SVC\n",
    "from sklearn.metrics import accuracy_score\n"
   ]
  },
  {
   "cell_type": "code",
   "execution_count": 7,
   "id": "18626e9f",
   "metadata": {
    "execution": {
     "iopub.execute_input": "2023-12-16T15:49:04.739360Z",
     "iopub.status.busy": "2023-12-16T15:49:04.738794Z",
     "iopub.status.idle": "2023-12-16T15:49:04.899116Z",
     "shell.execute_reply": "2023-12-16T15:49:04.897226Z"
    },
    "papermill": {
     "duration": 0.170706,
     "end_time": "2023-12-16T15:49:04.902961",
     "exception": false,
     "start_time": "2023-12-16T15:49:04.732255",
     "status": "completed"
    },
    "tags": []
   },
   "outputs": [
    {
     "name": "stdout",
     "output_type": "stream",
     "text": [
      "      age  sex  cp  trestbps  chol  fbs  restecg  thalach  exang  oldpeak  \\\n",
      "0      52    1   0       125   212    0        1      168      0      1.0   \n",
      "1      53    1   0       140   203    1        0      155      1      3.1   \n",
      "2      70    1   0       145   174    0        1      125      1      2.6   \n",
      "3      61    1   0       148   203    0        1      161      0      0.0   \n",
      "4      62    0   0       138   294    1        1      106      0      1.9   \n",
      "...   ...  ...  ..       ...   ...  ...      ...      ...    ...      ...   \n",
      "1020   59    1   1       140   221    0        1      164      1      0.0   \n",
      "1021   60    1   0       125   258    0        0      141      1      2.8   \n",
      "1022   47    1   0       110   275    0        0      118      1      1.0   \n",
      "1023   50    0   0       110   254    0        0      159      0      0.0   \n",
      "1024   54    1   0       120   188    0        1      113      0      1.4   \n",
      "\n",
      "      slope  ca  thal  target  \n",
      "0         2   2     3       0  \n",
      "1         0   0     3       0  \n",
      "2         0   0     3       0  \n",
      "3         2   1     3       0  \n",
      "4         1   3     2       0  \n",
      "...     ...  ..   ...     ...  \n",
      "1020      2   0     2       1  \n",
      "1021      1   1     3       0  \n",
      "1022      1   1     2       0  \n",
      "1023      2   0     2       1  \n",
      "1024      1   1     3       0  \n",
      "\n",
      "[1025 rows x 14 columns]\n"
     ]
    }
   ],
   "source": [
    "# Load the dataset\n",
    "data = pd.read_csv(\"C:/Users/HP/Downloads/archive (9)/heart.csv\")\n",
    "print(data)"
   ]
  },
  {
   "cell_type": "code",
   "execution_count": 8,
   "id": "d06490c2",
   "metadata": {
    "execution": {
     "iopub.execute_input": "2023-12-16T15:49:04.917048Z",
     "iopub.status.busy": "2023-12-16T15:49:04.915656Z",
     "iopub.status.idle": "2023-12-16T15:49:04.945347Z",
     "shell.execute_reply": "2023-12-16T15:49:04.944258Z"
    },
    "papermill": {
     "duration": 0.03984,
     "end_time": "2023-12-16T15:49:04.948008",
     "exception": false,
     "start_time": "2023-12-16T15:49:04.908168",
     "status": "completed"
    },
    "tags": []
   },
   "outputs": [
    {
     "data": {
      "text/html": [
       "<div>\n",
       "<style scoped>\n",
       "    .dataframe tbody tr th:only-of-type {\n",
       "        vertical-align: middle;\n",
       "    }\n",
       "\n",
       "    .dataframe tbody tr th {\n",
       "        vertical-align: top;\n",
       "    }\n",
       "\n",
       "    .dataframe thead th {\n",
       "        text-align: right;\n",
       "    }\n",
       "</style>\n",
       "<table border=\"1\" class=\"dataframe\">\n",
       "  <thead>\n",
       "    <tr style=\"text-align: right;\">\n",
       "      <th></th>\n",
       "      <th>age</th>\n",
       "      <th>sex</th>\n",
       "      <th>cp</th>\n",
       "      <th>trestbps</th>\n",
       "      <th>chol</th>\n",
       "      <th>fbs</th>\n",
       "      <th>restecg</th>\n",
       "      <th>thalach</th>\n",
       "      <th>exang</th>\n",
       "      <th>oldpeak</th>\n",
       "      <th>slope</th>\n",
       "      <th>ca</th>\n",
       "      <th>thal</th>\n",
       "      <th>target</th>\n",
       "    </tr>\n",
       "  </thead>\n",
       "  <tbody>\n",
       "    <tr>\n",
       "      <th>0</th>\n",
       "      <td>52</td>\n",
       "      <td>1</td>\n",
       "      <td>0</td>\n",
       "      <td>125</td>\n",
       "      <td>212</td>\n",
       "      <td>0</td>\n",
       "      <td>1</td>\n",
       "      <td>168</td>\n",
       "      <td>0</td>\n",
       "      <td>1.0</td>\n",
       "      <td>2</td>\n",
       "      <td>2</td>\n",
       "      <td>3</td>\n",
       "      <td>0</td>\n",
       "    </tr>\n",
       "    <tr>\n",
       "      <th>1</th>\n",
       "      <td>53</td>\n",
       "      <td>1</td>\n",
       "      <td>0</td>\n",
       "      <td>140</td>\n",
       "      <td>203</td>\n",
       "      <td>1</td>\n",
       "      <td>0</td>\n",
       "      <td>155</td>\n",
       "      <td>1</td>\n",
       "      <td>3.1</td>\n",
       "      <td>0</td>\n",
       "      <td>0</td>\n",
       "      <td>3</td>\n",
       "      <td>0</td>\n",
       "    </tr>\n",
       "    <tr>\n",
       "      <th>2</th>\n",
       "      <td>70</td>\n",
       "      <td>1</td>\n",
       "      <td>0</td>\n",
       "      <td>145</td>\n",
       "      <td>174</td>\n",
       "      <td>0</td>\n",
       "      <td>1</td>\n",
       "      <td>125</td>\n",
       "      <td>1</td>\n",
       "      <td>2.6</td>\n",
       "      <td>0</td>\n",
       "      <td>0</td>\n",
       "      <td>3</td>\n",
       "      <td>0</td>\n",
       "    </tr>\n",
       "    <tr>\n",
       "      <th>3</th>\n",
       "      <td>61</td>\n",
       "      <td>1</td>\n",
       "      <td>0</td>\n",
       "      <td>148</td>\n",
       "      <td>203</td>\n",
       "      <td>0</td>\n",
       "      <td>1</td>\n",
       "      <td>161</td>\n",
       "      <td>0</td>\n",
       "      <td>0.0</td>\n",
       "      <td>2</td>\n",
       "      <td>1</td>\n",
       "      <td>3</td>\n",
       "      <td>0</td>\n",
       "    </tr>\n",
       "    <tr>\n",
       "      <th>4</th>\n",
       "      <td>62</td>\n",
       "      <td>0</td>\n",
       "      <td>0</td>\n",
       "      <td>138</td>\n",
       "      <td>294</td>\n",
       "      <td>1</td>\n",
       "      <td>1</td>\n",
       "      <td>106</td>\n",
       "      <td>0</td>\n",
       "      <td>1.9</td>\n",
       "      <td>1</td>\n",
       "      <td>3</td>\n",
       "      <td>2</td>\n",
       "      <td>0</td>\n",
       "    </tr>\n",
       "  </tbody>\n",
       "</table>\n",
       "</div>"
      ],
      "text/plain": [
       "   age  sex  cp  trestbps  chol  fbs  restecg  thalach  exang  oldpeak  slope  \\\n",
       "0   52    1   0       125   212    0        1      168      0      1.0      2   \n",
       "1   53    1   0       140   203    1        0      155      1      3.1      0   \n",
       "2   70    1   0       145   174    0        1      125      1      2.6      0   \n",
       "3   61    1   0       148   203    0        1      161      0      0.0      2   \n",
       "4   62    0   0       138   294    1        1      106      0      1.9      1   \n",
       "\n",
       "   ca  thal  target  \n",
       "0   2     3       0  \n",
       "1   0     3       0  \n",
       "2   0     3       0  \n",
       "3   1     3       0  \n",
       "4   3     2       0  "
      ]
     },
     "execution_count": 8,
     "metadata": {},
     "output_type": "execute_result"
    }
   ],
   "source": [
    "# Convert non-numeric data to numeric data\n",
    "le = LabelEncoder()\n",
    "data['sex'] = le.fit_transform(data['sex'])\n",
    "data['cp'] = le.fit_transform(data['cp'])\n",
    "data['fbs'] = le.fit_transform(data['fbs'])\n",
    "data['restecg'] = le.fit_transform(data['restecg'])\n",
    "data['exang'] = le.fit_transform(data['exang'])\n",
    "data['slope'] = le.fit_transform(data['slope'])\n",
    "data['thal'] = le.fit_transform(data['thal'])\n",
    "data.head()"
   ]
  },
  {
   "cell_type": "code",
   "execution_count": 9,
   "id": "0e369686",
   "metadata": {
    "execution": {
     "iopub.execute_input": "2023-12-16T15:49:04.959648Z",
     "iopub.status.busy": "2023-12-16T15:49:04.959144Z",
     "iopub.status.idle": "2023-12-16T15:49:04.969859Z",
     "shell.execute_reply": "2023-12-16T15:49:04.968830Z"
    },
    "papermill": {
     "duration": 0.019245,
     "end_time": "2023-12-16T15:49:04.972082",
     "exception": false,
     "start_time": "2023-12-16T15:49:04.952837",
     "status": "completed"
    },
    "tags": []
   },
   "outputs": [],
   "source": [
    "X=data.drop(['target'], axis =1)\n",
    "y=data['target']"
   ]
  },
  {
   "cell_type": "code",
   "execution_count": 10,
   "id": "14d50f80",
   "metadata": {
    "execution": {
     "iopub.execute_input": "2023-12-16T15:49:04.983438Z",
     "iopub.status.busy": "2023-12-16T15:49:04.982945Z",
     "iopub.status.idle": "2023-12-16T15:49:04.995380Z",
     "shell.execute_reply": "2023-12-16T15:49:04.994087Z"
    },
    "papermill": {
     "duration": 0.021765,
     "end_time": "2023-12-16T15:49:04.998347",
     "exception": false,
     "start_time": "2023-12-16T15:49:04.976582",
     "status": "completed"
    },
    "tags": []
   },
   "outputs": [],
   "source": [
    "# Split the dataset into training and testing sets\n",
    "X_train, X_test, y_train, y_test = train_test_split(X, y, test_size=0.2, random_state=42)\n",
    "\n"
   ]
  },
  {
   "cell_type": "code",
   "execution_count": 11,
   "id": "d6fa3ad8",
   "metadata": {
    "execution": {
     "iopub.execute_input": "2023-12-16T15:49:05.011566Z",
     "iopub.status.busy": "2023-12-16T15:49:05.011049Z",
     "iopub.status.idle": "2023-12-16T15:49:05.109123Z",
     "shell.execute_reply": "2023-12-16T15:49:05.107892Z"
    },
    "papermill": {
     "duration": 0.108509,
     "end_time": "2023-12-16T15:49:05.112169",
     "exception": false,
     "start_time": "2023-12-16T15:49:05.003660",
     "status": "completed"
    },
    "tags": []
   },
   "outputs": [],
   "source": [
    "from sklearn.impute import SimpleImputer\n",
    "imputer = SimpleImputer(strategy='mean')\n",
    "X_train = imputer.fit_transform(X_train)\n",
    "X_test = imputer.transform(X_test)"
   ]
  },
  {
   "cell_type": "code",
   "execution_count": 12,
   "id": "d2e2d6d7",
   "metadata": {
    "execution": {
     "iopub.execute_input": "2023-12-16T15:49:05.123461Z",
     "iopub.status.busy": "2023-12-16T15:49:05.123028Z",
     "iopub.status.idle": "2023-12-16T15:49:05.173667Z",
     "shell.execute_reply": "2023-12-16T15:49:05.172328Z"
    },
    "papermill": {
     "duration": 0.05938,
     "end_time": "2023-12-16T15:49:05.176426",
     "exception": false,
     "start_time": "2023-12-16T15:49:05.117046",
     "status": "completed"
    },
    "tags": []
   },
   "outputs": [
    {
     "data": {
      "text/plain": [
       "DecisionTreeClassifier()"
      ]
     },
     "execution_count": 12,
     "metadata": {},
     "output_type": "execute_result"
    }
   ],
   "source": [
    "from sklearn.tree import DecisionTreeClassifier\n",
    "\n",
    "dt= DecisionTreeClassifier()\n",
    "dt.fit(X_train,y_train)\n",
    "\n"
   ]
  },
  {
   "cell_type": "code",
   "execution_count": 13,
   "id": "7f7cb3fb",
   "metadata": {
    "execution": {
     "iopub.execute_input": "2023-12-16T15:49:05.189242Z",
     "iopub.status.busy": "2023-12-16T15:49:05.188820Z",
     "iopub.status.idle": "2023-12-16T15:49:05.197907Z",
     "shell.execute_reply": "2023-12-16T15:49:05.195867Z"
    },
    "papermill": {
     "duration": 0.018842,
     "end_time": "2023-12-16T15:49:05.200801",
     "exception": false,
     "start_time": "2023-12-16T15:49:05.181959",
     "status": "completed"
    },
    "tags": []
   },
   "outputs": [
    {
     "name": "stdout",
     "output_type": "stream",
     "text": [
      "Accuracy : 0.9853658536585366\n"
     ]
    }
   ],
   "source": [
    "# Make predictions on the testing set\n",
    "y_pred = dt.predict(X_test)\n",
    "\n",
    "# Evaluate the model's performance\n",
    "accuracy = accuracy_score(y_test, y_pred)\n",
    "print(\"Accuracy :\", accuracy)"
   ]
  },
  {
   "cell_type": "code",
   "execution_count": 27,
   "id": "b9cc2ac6",
   "metadata": {},
   "outputs": [
    {
     "name": "stdout",
     "output_type": "stream",
     "text": [
      "Accuracy: 0.8536585365853658\n"
     ]
    }
   ],
   "source": [
    "from sklearn.svm import SVC\n",
    "svm_linear = SVC(kernel='linear', C=100)\n",
    "svm_linear.fit(X_train, y_train)\n",
    "print(\"Accuracy:\", svm_linear.score(X_train, y_train))"
   ]
  },
  {
   "cell_type": "code",
   "execution_count": null,
   "id": "b5b6b7e2",
   "metadata": {},
   "outputs": [],
   "source": []
  }
 ],
 "metadata": {
  "kaggle": {
   "accelerator": "none",
   "dataSources": [
    {
     "datasetId": 216167,
     "sourceId": 477177,
     "sourceType": "datasetVersion"
    }
   ],
   "dockerImageVersionId": 30626,
   "isGpuEnabled": false,
   "isInternetEnabled": true,
   "language": "python",
   "sourceType": "notebook"
  },
  "kernelspec": {
   "display_name": "Python 3 (ipykernel)",
   "language": "python",
   "name": "python3"
  },
  "language_info": {
   "codemirror_mode": {
    "name": "ipython",
    "version": 3
   },
   "file_extension": ".py",
   "mimetype": "text/x-python",
   "name": "python",
   "nbconvert_exporter": "python",
   "pygments_lexer": "ipython3",
   "version": "3.9.13"
  },
  "papermill": {
   "default_parameters": {},
   "duration": 8.264749,
   "end_time": "2023-12-16T15:49:05.930454",
   "environment_variables": {},
   "exception": null,
   "input_path": "__notebook__.ipynb",
   "output_path": "__notebook__.ipynb",
   "parameters": {},
   "start_time": "2023-12-16T15:48:57.665705",
   "version": "2.4.0"
  }
 },
 "nbformat": 4,
 "nbformat_minor": 5
}
